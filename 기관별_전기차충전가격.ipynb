{
 "cells": [
  {
   "cell_type": "code",
   "execution_count": 4,
   "id": "dec66abe-2073-4b9d-80d1-a47a9ae3270e",
   "metadata": {},
   "outputs": [],
   "source": [
    "import requests\n",
    "\n",
    "url = \"https://ev.or.kr/nportal/evcarInfo/selectEvcarStationPriceSearch.ajax\"\n",
    "params = {\n",
    "    \"srecordCountPerPage\":\"100\",\n",
    "    \"spageNo\":1,\n",
    "    \"spageSize\":10,\n",
    "    \"selExcelCnt\":100\n",
    "}\n",
    "res = requests.post(url, params=params)\n",
    "data = res.json()\n",
    "# import pprint\n",
    "# pprint.pprint(data)\n",
    "import pandas as pd\n",
    "df = pd.DataFrame(data['list'], columns=[\"BNM\" , 'PRICE_TYPE_NM', \"GUEST_PRICE\", \"MEMBER_PRICE\"])\n",
    "df.columns = ['기관명', '구분', '회원가','비회원가']\n",
    "\n",
    "df.to_csv('기관별_전기차충전가격.csv',index=False)\n",
    "    \n",
    "\n",
    "    "
   ]
  },
  {
   "cell_type": "code",
   "execution_count": 77,
   "id": "78382a39-2e96-4cee-8bca-a896a06270e3",
   "metadata": {},
   "outputs": [
    {
     "name": "stdout",
     "output_type": "stream",
     "text": [
      "        기관명  구분    회원가   비회원가\n",
      "0       환경부  급속  347.2  347.2\n",
      "1       환경부  완속  324.4  324.4\n",
      "2     GS차지비  급속    470    335\n",
      "3     GS차지비  완속    470    269\n",
      "4     GS칼텍스  급속    448    347\n",
      "..      ...  ..    ...    ...\n",
      "91  현대엔지니어링  급속    500    368\n",
      "92  현대엔지니어링  완속    450    269\n",
      "93    홈앤서비스  완속    260    227\n",
      "94   휴맥스이브이  급속    480    320\n",
      "95   휴맥스이브이  완속    480    280\n",
      "\n",
      "[96 rows x 4 columns]\n"
     ]
    }
   ],
   "source": [
    "print(df)"
   ]
  },
  {
   "cell_type": "code",
   "execution_count": null,
   "id": "db4b40fb-b50a-43d2-bb7b-243f0b28d61b",
   "metadata": {},
   "outputs": [],
   "source": []
  }
 ],
 "metadata": {
  "kernelspec": {
   "display_name": "Python 3 (ipykernel)",
   "language": "python",
   "name": "python3"
  },
  "language_info": {
   "codemirror_mode": {
    "name": "ipython",
    "version": 3
   },
   "file_extension": ".py",
   "mimetype": "text/x-python",
   "name": "python",
   "nbconvert_exporter": "python",
   "pygments_lexer": "ipython3",
   "version": "3.12.5"
  }
 },
 "nbformat": 4,
 "nbformat_minor": 5
}
