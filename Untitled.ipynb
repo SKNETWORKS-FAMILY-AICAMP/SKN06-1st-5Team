{
 "cells": [
  {
   "cell_type": "code",
   "execution_count": 2,
   "id": "0416797f-9f6f-4af5-8c46-1a5e73be10ff",
   "metadata": {},
   "outputs": [
    {
     "ename": "SyntaxError",
     "evalue": "unterminated triple-quoted string literal (detected at line 40) (3353818920.py, line 1)",
     "output_type": "error",
     "traceback": [
      "\u001b[1;36m  Cell \u001b[1;32mIn[2], line 1\u001b[1;36m\u001b[0m\n\u001b[1;33m    'query':'''nquery($tag:String) {\u001b[0m\n\u001b[1;37m            ^\u001b[0m\n\u001b[1;31mSyntaxError\u001b[0m\u001b[1;31m:\u001b[0m unterminated triple-quoted string literal (detected at line 40)\n"
     ]
    }
   ],
   "source": [
    "'query':'''nquery($tag:String) {\n",
    "    faqList (\n",
    "        filter: {\n",
    "            tags: {\n",
    "            _expressions:  {\n",
    "                tvalue:$tag\n",
    "                    t_operator:EQUALS          \n",
    "                        }          \n",
    "                    }\n",
    "                    _path: {\n",
    "                     _expressions: [ \n",
    "                      {\n",
    "                        value: \"/content/dam/kwp/kr/ko\\\"\n",
    "                        _operator: STARTS_WITH\n",
    "                        }\n",
    "                    ]\n",
    "                    }\n",
    "                }\n",
    "            ) {\n",
    "                items {\n",
    "                      _path\n",
    "                      question\n",
    "                      answer {\n",
    "                          html\n",
    "                          plaintext\n",
    "                      }\n",
    "                      important\n",
    "                      sortorder\n",
    "                      created\n",
    "                      assets {\n",
    "                          ... on AssetModel {\n",
    "                            title\n",
    "                            asset {\n",
    "                                __typename\n",
    "                                ... on ImageRef {\n",
    "                                    _path\n",
    "                                  }\n",
    "                            }\n",
    "                            mobileAsset{\n",
    "                                __typename\n",
    "                                ... on ImageRef\n",
    "                                 _path\n",
    "                                }\n",
    "                            }\n",
    "                            imageBorder\n",
    "                        }\n",
    "                    }\n",
    "                    tags\n",
    "                }\n",
    "            }''',\n",
    "            'variables':'{\"tag\":\"kwp:kr/faq/charging\"}'\n",
    "        }"
   ]
  },
  {
   "cell_type": "code",
   "execution_count": null,
   "id": "2cc2c9c1-3174-4d43-a5f2-368ec8b125a0",
   "metadata": {},
   "outputs": [],
   "source": []
  }
 ],
 "metadata": {
  "kernelspec": {
   "display_name": "Python 3 (ipykernel)",
   "language": "python",
   "name": "python3"
  },
  "language_info": {
   "codemirror_mode": {
    "name": "ipython",
    "version": 3
   },
   "file_extension": ".py",
   "mimetype": "text/x-python",
   "name": "python",
   "nbconvert_exporter": "python",
   "pygments_lexer": "ipython3",
   "version": "3.12.5"
  }
 },
 "nbformat": 4,
 "nbformat_minor": 5
}
