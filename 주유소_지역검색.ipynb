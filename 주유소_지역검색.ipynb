{
 "cells": [
  {
   "cell_type": "code",
   "execution_count": 14,
   "id": "57f7e549-fcd8-4897-aecf-c76fc613a1b2",
   "metadata": {
    "collapsed": true,
    "jupyter": {
     "outputs_hidden": true
    }
   },
   "outputs": [
    {
     "name": "stdout",
     "output_type": "stream",
     "text": [
      "Requirement already satisfied: selenium in c:\\users\\playdata\\miniconda3\\envs\\python\\lib\\site-packages (4.25.0)\n",
      "Requirement already satisfied: urllib3<3,>=1.26 in c:\\users\\playdata\\miniconda3\\envs\\python\\lib\\site-packages (from urllib3[socks]<3,>=1.26->selenium) (2.2.3)\n",
      "Requirement already satisfied: trio~=0.17 in c:\\users\\playdata\\miniconda3\\envs\\python\\lib\\site-packages (from selenium) (0.26.2)\n",
      "Requirement already satisfied: trio-websocket~=0.9 in c:\\users\\playdata\\miniconda3\\envs\\python\\lib\\site-packages (from selenium) (0.11.1)\n",
      "Requirement already satisfied: certifi>=2021.10.8 in c:\\users\\playdata\\miniconda3\\envs\\python\\lib\\site-packages (from selenium) (2024.8.30)\n",
      "Requirement already satisfied: typing_extensions~=4.9 in c:\\users\\playdata\\miniconda3\\envs\\python\\lib\\site-packages (from selenium) (4.12.2)\n",
      "Requirement already satisfied: websocket-client~=1.8 in c:\\users\\playdata\\miniconda3\\envs\\python\\lib\\site-packages (from selenium) (1.8.0)\n",
      "Requirement already satisfied: attrs>=23.2.0 in c:\\users\\playdata\\miniconda3\\envs\\python\\lib\\site-packages (from trio~=0.17->selenium) (24.2.0)\n",
      "Requirement already satisfied: sortedcontainers in c:\\users\\playdata\\miniconda3\\envs\\python\\lib\\site-packages (from trio~=0.17->selenium) (2.4.0)\n",
      "Requirement already satisfied: idna in c:\\users\\playdata\\miniconda3\\envs\\python\\lib\\site-packages (from trio~=0.17->selenium) (3.10)\n",
      "Requirement already satisfied: outcome in c:\\users\\playdata\\miniconda3\\envs\\python\\lib\\site-packages (from trio~=0.17->selenium) (1.3.0.post0)\n",
      "Requirement already satisfied: sniffio>=1.3.0 in c:\\users\\playdata\\miniconda3\\envs\\python\\lib\\site-packages (from trio~=0.17->selenium) (1.3.1)\n",
      "Requirement already satisfied: cffi>=1.14 in c:\\users\\playdata\\miniconda3\\envs\\python\\lib\\site-packages (from trio~=0.17->selenium) (1.17.1)\n",
      "Requirement already satisfied: wsproto>=0.14 in c:\\users\\playdata\\miniconda3\\envs\\python\\lib\\site-packages (from trio-websocket~=0.9->selenium) (1.2.0)\n",
      "Requirement already satisfied: pysocks!=1.5.7,<2.0,>=1.5.6 in c:\\users\\playdata\\miniconda3\\envs\\python\\lib\\site-packages (from urllib3[socks]<3,>=1.26->selenium) (1.7.1)\n",
      "Requirement already satisfied: pycparser in c:\\users\\playdata\\miniconda3\\envs\\python\\lib\\site-packages (from cffi>=1.14->trio~=0.17->selenium) (2.22)\n",
      "Requirement already satisfied: h11<1,>=0.9.0 in c:\\users\\playdata\\miniconda3\\envs\\python\\lib\\site-packages (from wsproto>=0.14->trio-websocket~=0.9->selenium) (0.14.0)\n",
      "Collecting webdriver_manager\n",
      "  Downloading webdriver_manager-4.0.2-py2.py3-none-any.whl.metadata (12 kB)\n",
      "Requirement already satisfied: requests in c:\\users\\playdata\\miniconda3\\envs\\python\\lib\\site-packages (from webdriver_manager) (2.32.3)\n",
      "Collecting python-dotenv (from webdriver_manager)\n",
      "  Downloading python_dotenv-1.0.1-py3-none-any.whl.metadata (23 kB)\n",
      "Requirement already satisfied: packaging in c:\\users\\playdata\\miniconda3\\envs\\python\\lib\\site-packages (from webdriver_manager) (24.1)\n",
      "Requirement already satisfied: charset-normalizer<4,>=2 in c:\\users\\playdata\\miniconda3\\envs\\python\\lib\\site-packages (from requests->webdriver_manager) (3.3.2)\n",
      "Requirement already satisfied: idna<4,>=2.5 in c:\\users\\playdata\\miniconda3\\envs\\python\\lib\\site-packages (from requests->webdriver_manager) (3.10)\n",
      "Requirement already satisfied: urllib3<3,>=1.21.1 in c:\\users\\playdata\\miniconda3\\envs\\python\\lib\\site-packages (from requests->webdriver_manager) (2.2.3)\n",
      "Requirement already satisfied: certifi>=2017.4.17 in c:\\users\\playdata\\miniconda3\\envs\\python\\lib\\site-packages (from requests->webdriver_manager) (2024.8.30)\n",
      "Downloading webdriver_manager-4.0.2-py2.py3-none-any.whl (27 kB)\n",
      "Downloading python_dotenv-1.0.1-py3-none-any.whl (19 kB)\n",
      "Installing collected packages: python-dotenv, webdriver_manager\n",
      "Successfully installed python-dotenv-1.0.1 webdriver_manager-4.0.2\n"
     ]
    }
   ],
   "source": [
    "!pip install selenium\n",
    "!pip install webdriver_manager"
   ]
  },
  {
   "cell_type": "code",
   "execution_count": 52,
   "id": "03dd75d1-cd52-4cfa-a1f3-6610cb1b1a3b",
   "metadata": {},
   "outputs": [],
   "source": [
    "from selenium import webdriver\n",
    "from selenium.webdriver.common.by import By\n",
    "from selenium.webdriver.chrome.service import Service as CS\n",
    "from webdriver_manager.chrome import ChromeDriverManager as CDM\n",
    "from bs4 import BeautifulSoup as BS\n",
    "import time\n",
    "from selenium.webdriver.chrome.options import Options\n",
    "\n",
    "drv = webdriver.Chrome()\n",
    "drv.get(\"https://www.opinet.co.kr/searRgSelect.do\")\n",
    "time.sleep(1)"
   ]
  },
  {
   "cell_type": "code",
   "execution_count": 30,
   "id": "8e4a5bff-0293-4bae-8bbc-e43f86f0e7c5",
   "metadata": {},
   "outputs": [],
   "source": [
    "# sel1 = Select(drv.find_element(by=By.CSS_SELECTOR, value=\"#SIDO_NM0\"))\n",
    "# sel1.select_by_index(17)\n",
    "# sele1 = Select(drv.find_element(by=By.CSS_SELECTOR, value=\"#SIGUNGU_NM0\"))\n",
    "# sele1.select_by_index(1)\n",
    "# but1 = drv.find_element(by=By.CSS_SELECTOR, value=\"#searRgSelect\")\n",
    "# but1.click()"
   ]
  },
  {
   "cell_type": "code",
   "execution_count": null,
   "id": "34d4c1ee-fd99-4a3d-9c86-9d731643addd",
   "metadata": {},
   "outputs": [],
   "source": [
    "# sel2 = Select(drv.find_element(by=By.CSS_SELECTOR, value=\"#SIDO_NM0\"))\n",
    "# sel2.select_by_index(17)\n",
    "# sele2 = Select(drv.find_element(by=By.CSS_SELECTOR, value=\"#SIGUNGU_NM0\"))\n",
    "# sele2.select_by_index(2)\n",
    "# but2 = drv.find_element(by=By.CSS_SELECTOR, value=\"#searRgSelect\")\n",
    "# but2.click()"
   ]
  },
  {
   "cell_type": "code",
   "execution_count": 62,
   "id": "2898f143-8f3f-44a6-b12e-15cd2d6536bc",
   "metadata": {},
   "outputs": [],
   "source": [
    "sido_index = 17\n",
    "sigungu_indexes = [1, 2]\n",
    "\n",
    "for sigungu_index in sigungu_indexes:\n",
    "    sel1 = Select(drv.find_element(by=By.CSS_SELECTOR, value=\"#SIDO_NM0\"))\n",
    "    sel1.select_by_index(sido_index)\n",
    "\n",
    "    sele1 = Select(drv.find_element(by=By.CSS_SELECTOR, value=\"#SIGUNGU_NM0\"))\n",
    "    sele1.select_by_index(sigungu_index)\n",
    "    \n",
    "    but = drv.find_element(by=By.CSS_SELECTOR, value=\"#searRgSelect\")\n",
    "    but.click()\n",
    "    time.sleep(1)"
   ]
  },
  {
   "cell_type": "code",
   "execution_count": 63,
   "id": "250e3319-e2d2-4fd4-a7ee-338fbeb2cded",
   "metadata": {},
   "outputs": [],
   "source": [
    "sido_index = 16\n",
    "sigungu_indexes = list(range(1,24))\n",
    "\n",
    "for sigungu_index in sigungu_indexes:\n",
    "    sel1 = Select(drv.find_element(by=By.CSS_SELECTOR, value=\"#SIDO_NM0\"))\n",
    "    sel1.select_by_index(sido_index)\n",
    "\n",
    "    sele1 = Select(drv.find_element(by=By.CSS_SELECTOR, value=\"#SIGUNGU_NM0\"))\n",
    "    sele1.select_by_index(sigungu_index)\n",
    "    \n",
    "    but = drv.find_element(by=By.CSS_SELECTOR, value=\"#searRgSelect\")\n",
    "    but.click()\n",
    "    time.sleep(1)"
   ]
  },
  {
   "cell_type": "code",
   "execution_count": null,
   "id": "ec773e87-9d0f-40ce-9c20-c44959bd3e14",
   "metadata": {},
   "outputs": [],
   "source": [
    "sido_index = 15\n",
    "sigungu_indexes = list(range(1,25))\n",
    "\n",
    "for sigungu_index in sigungu_indexes:\n",
    "    sel1 = Select(drv.find_element(by=By.CSS_SELECTOR, value=\"#SIDO_NM0\"))\n",
    "    sel1.select_by_index(sido_index)\n",
    "\n",
    "    sele1 = Select(drv.find_element(by=By.CSS_SELECTOR, value=\"#SIGUNGU_NM0\"))\n",
    "    sele1.select_by_index(sigungu_index)\n",
    "    \n",
    "    but = drv.find_element(by=By.CSS_SELECTOR, value=\"#searRgSelect\")\n",
    "    but.click()\n",
    "    time.sleep(1)"
   ]
  },
  {
   "cell_type": "code",
   "execution_count": 65,
   "id": "640dc03a-193a-451c-8d5b-cc9cd147af3d",
   "metadata": {},
   "outputs": [],
   "source": [
    "sido_index = 14\n",
    "sigungu_indexes = list(range(1,23))\n",
    "\n",
    "for sigungu_index in sigungu_indexes:\n",
    "    sel1 = Select(drv.find_element(by=By.CSS_SELECTOR, value=\"#SIDO_NM0\"))\n",
    "    sel1.select_by_index(sido_index)\n",
    "\n",
    "    sele1 = Select(drv.find_element(by=By.CSS_SELECTOR, value=\"#SIGUNGU_NM0\"))\n",
    "    sele1.select_by_index(sigungu_index)\n",
    "    \n",
    "    but = drv.find_element(by=By.CSS_SELECTOR, value=\"#searRgSelect\")\n",
    "    but.click()\n",
    "    time.sleep(1)"
   ]
  },
  {
   "cell_type": "code",
   "execution_count": 71,
   "id": "d36730c0-2c93-46f7-834d-0163e6ca2482",
   "metadata": {},
   "outputs": [],
   "source": [
    "#지역도 한번에 하고 싶은데 인덱스가 다 달라서 봐주세요!\n",
    "# sido_indexes = list(range(1,18))\n",
    "# sigungu_indexes = list(range(1,25))\n",
    "\n",
    "# for sigungu_index in sigungu_indexes:\n",
    "#     sel1 = Select(drv.find_element(by=By.CSS_SELECTOR, value=\"#SIDO_NM0\"))\n",
    "#     sel1.select_by_index(sido_index)\n",
    "\n",
    "#     sele1 = Select(drv.find_element(by=By.CSS_SELECTOR, value=\"#SIGUNGU_NM0\"))\n",
    "#     sele1.select_by_index(sigungu_index)\n",
    "    \n",
    "#     but = drv.find_element(by=By.CSS_SELECTOR, value=\"#searRgSelect\")\n",
    "#     but.click()\n",
    "#     time.sleep(1)"
   ]
  },
  {
   "cell_type": "code",
   "execution_count": null,
   "id": "8b5c1aa7-0cdf-4030-8f83-91a3836f7c6e",
   "metadata": {},
   "outputs": [],
   "source": []
  }
 ],
 "metadata": {
  "kernelspec": {
   "display_name": "Python 3 (ipykernel)",
   "language": "python",
   "name": "python3"
  },
  "language_info": {
   "codemirror_mode": {
    "name": "ipython",
    "version": 3
   },
   "file_extension": ".py",
   "mimetype": "text/x-python",
   "name": "python",
   "nbconvert_exporter": "python",
   "pygments_lexer": "ipython3",
   "version": "3.12.5"
  }
 },
 "nbformat": 4,
 "nbformat_minor": 5
}
