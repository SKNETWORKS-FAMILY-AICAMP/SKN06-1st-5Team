{
 "cells": [
  {
   "cell_type": "code",
   "execution_count": 14,
   "id": "57f7e549-fcd8-4897-aecf-c76fc613a1b2",
   "metadata": {
    "collapsed": true,
    "jupyter": {
     "outputs_hidden": true
    }
   },
   "outputs": [
    {
     "name": "stdout",
     "output_type": "stream",
     "text": [
      "Requirement already satisfied: selenium in c:\\users\\playdata\\miniconda3\\envs\\python\\lib\\site-packages (4.25.0)\n",
      "Requirement already satisfied: urllib3<3,>=1.26 in c:\\users\\playdata\\miniconda3\\envs\\python\\lib\\site-packages (from urllib3[socks]<3,>=1.26->selenium) (2.2.3)\n",
      "Requirement already satisfied: trio~=0.17 in c:\\users\\playdata\\miniconda3\\envs\\python\\lib\\site-packages (from selenium) (0.26.2)\n",
      "Requirement already satisfied: trio-websocket~=0.9 in c:\\users\\playdata\\miniconda3\\envs\\python\\lib\\site-packages (from selenium) (0.11.1)\n",
      "Requirement already satisfied: certifi>=2021.10.8 in c:\\users\\playdata\\miniconda3\\envs\\python\\lib\\site-packages (from selenium) (2024.8.30)\n",
      "Requirement already satisfied: typing_extensions~=4.9 in c:\\users\\playdata\\miniconda3\\envs\\python\\lib\\site-packages (from selenium) (4.12.2)\n",
      "Requirement already satisfied: websocket-client~=1.8 in c:\\users\\playdata\\miniconda3\\envs\\python\\lib\\site-packages (from selenium) (1.8.0)\n",
      "Requirement already satisfied: attrs>=23.2.0 in c:\\users\\playdata\\miniconda3\\envs\\python\\lib\\site-packages (from trio~=0.17->selenium) (24.2.0)\n",
      "Requirement already satisfied: sortedcontainers in c:\\users\\playdata\\miniconda3\\envs\\python\\lib\\site-packages (from trio~=0.17->selenium) (2.4.0)\n",
      "Requirement already satisfied: idna in c:\\users\\playdata\\miniconda3\\envs\\python\\lib\\site-packages (from trio~=0.17->selenium) (3.10)\n",
      "Requirement already satisfied: outcome in c:\\users\\playdata\\miniconda3\\envs\\python\\lib\\site-packages (from trio~=0.17->selenium) (1.3.0.post0)\n",
      "Requirement already satisfied: sniffio>=1.3.0 in c:\\users\\playdata\\miniconda3\\envs\\python\\lib\\site-packages (from trio~=0.17->selenium) (1.3.1)\n",
      "Requirement already satisfied: cffi>=1.14 in c:\\users\\playdata\\miniconda3\\envs\\python\\lib\\site-packages (from trio~=0.17->selenium) (1.17.1)\n",
      "Requirement already satisfied: wsproto>=0.14 in c:\\users\\playdata\\miniconda3\\envs\\python\\lib\\site-packages (from trio-websocket~=0.9->selenium) (1.2.0)\n",
      "Requirement already satisfied: pysocks!=1.5.7,<2.0,>=1.5.6 in c:\\users\\playdata\\miniconda3\\envs\\python\\lib\\site-packages (from urllib3[socks]<3,>=1.26->selenium) (1.7.1)\n",
      "Requirement already satisfied: pycparser in c:\\users\\playdata\\miniconda3\\envs\\python\\lib\\site-packages (from cffi>=1.14->trio~=0.17->selenium) (2.22)\n",
      "Requirement already satisfied: h11<1,>=0.9.0 in c:\\users\\playdata\\miniconda3\\envs\\python\\lib\\site-packages (from wsproto>=0.14->trio-websocket~=0.9->selenium) (0.14.0)\n",
      "Collecting webdriver_manager\n",
      "  Downloading webdriver_manager-4.0.2-py2.py3-none-any.whl.metadata (12 kB)\n",
      "Requirement already satisfied: requests in c:\\users\\playdata\\miniconda3\\envs\\python\\lib\\site-packages (from webdriver_manager) (2.32.3)\n",
      "Collecting python-dotenv (from webdriver_manager)\n",
      "  Downloading python_dotenv-1.0.1-py3-none-any.whl.metadata (23 kB)\n",
      "Requirement already satisfied: packaging in c:\\users\\playdata\\miniconda3\\envs\\python\\lib\\site-packages (from webdriver_manager) (24.1)\n",
      "Requirement already satisfied: charset-normalizer<4,>=2 in c:\\users\\playdata\\miniconda3\\envs\\python\\lib\\site-packages (from requests->webdriver_manager) (3.3.2)\n",
      "Requirement already satisfied: idna<4,>=2.5 in c:\\users\\playdata\\miniconda3\\envs\\python\\lib\\site-packages (from requests->webdriver_manager) (3.10)\n",
      "Requirement already satisfied: urllib3<3,>=1.21.1 in c:\\users\\playdata\\miniconda3\\envs\\python\\lib\\site-packages (from requests->webdriver_manager) (2.2.3)\n",
      "Requirement already satisfied: certifi>=2017.4.17 in c:\\users\\playdata\\miniconda3\\envs\\python\\lib\\site-packages (from requests->webdriver_manager) (2024.8.30)\n",
      "Downloading webdriver_manager-4.0.2-py2.py3-none-any.whl (27 kB)\n",
      "Downloading python_dotenv-1.0.1-py3-none-any.whl (19 kB)\n",
      "Installing collected packages: python-dotenv, webdriver_manager\n",
      "Successfully installed python-dotenv-1.0.1 webdriver_manager-4.0.2\n"
     ]
    }
   ],
   "source": [
    "!pip install selenium\n",
    "!pip install webdriver_manager"
   ]
  },
  {
   "cell_type": "code",
   "execution_count": 1,
   "id": "03dd75d1-cd52-4cfa-a1f3-6610cb1b1a3b",
   "metadata": {},
   "outputs": [],
   "source": [
    "from selenium import webdriver\n",
    "from selenium.webdriver.common.by import By\n",
    "from selenium.webdriver.chrome.service import Service as CS\n",
    "from webdriver_manager.chrome import ChromeDriverManager as CDM\n",
    "from selenium.webdriver.support.ui import Select\n",
    "import time\n",
    "from selenium.webdriver.chrome.options import Options\n",
    "\n",
    "drv = webdriver.Chrome()\n",
    "drv.get(\"https://www.opinet.co.kr/searRgSelect.do\")\n",
    "time.sleep(1)"
   ]
  },
  {
   "cell_type": "code",
   "execution_count": 12,
   "id": "8e4a5bff-0293-4bae-8bbc-e43f86f0e7c5",
   "metadata": {},
   "outputs": [],
   "source": [
    "# sel1 = Select(drv.find_element(by=By.CSS_SELECTOR, value=\"#SIDO_NM0\"))\n",
    "# sel1.select_by_index(17)\n",
    "# sele1 = Select(drv.find_element(by=By.CSS_SELECTOR, value=\"#SIGUNGU_NM0\"))\n",
    "# sele1.select_by_index(1)\n",
    "# but1 = drv.find_element(by=By.CSS_SELECTOR, value=\"#searRgSelect\")\n",
    "# but1.click()"
   ]
  },
  {
   "cell_type": "code",
   "execution_count": null,
   "id": "34d4c1ee-fd99-4a3d-9c86-9d731643addd",
   "metadata": {},
   "outputs": [],
   "source": [
    "# sel2 = Select(drv.find_element(by=By.CSS_SELECTOR, value=\"#SIDO_NM0\"))\n",
    "# sel2.select_by_index(17)\n",
    "# sele2 = Select(drv.find_element(by=By.CSS_SELECTOR, value=\"#SIGUNGU_NM0\"))\n",
    "# sele2.select_by_index(2)\n",
    "# but2 = drv.find_element(by=By.CSS_SELECTOR, value=\"#searRgSelect\")\n",
    "# but2.click()"
   ]
  },
  {
   "cell_type": "code",
   "execution_count": 13,
   "id": "2898f143-8f3f-44a6-b12e-15cd2d6536bc",
   "metadata": {},
   "outputs": [],
   "source": [
    "sido_index = 17\n",
    "sigungu_indexes = [1, 2]\n",
    "\n",
    "for sigungu_index in sigungu_indexes:\n",
    "    sel1 = Select(drv.find_element(by=By.CSS_SELECTOR, value=\"#SIDO_NM0\"))\n",
    "    sel1.select_by_index(sido_index)\n",
    "\n",
    "    sele1 = Select(drv.find_element(by=By.CSS_SELECTOR, value=\"#SIGUNGU_NM0\"))\n",
    "    sele1.select_by_index(sigungu_index)\n",
    "    but = drv.find_element(by=By.CSS_SELECTOR, value=\"#searRgSelect\")\n",
    "    but.click()\n",
    "    time.sleep(1)"
   ]
  },
  {
   "cell_type": "code",
   "execution_count": null,
   "id": "7ae8e0e7-d7ce-454f-ae0b-786f47422e73",
   "metadata": {},
   "outputs": [],
   "source": [
    "sido_index = 16\n",
    "sigungu_indexes = list(range(1,24))\n",
    "\n",
    "for sigungu_index in sigungu_indexes:\n",
    "    sel1 = Select(drv.find_element(by=By.CSS_SELECTOR, value=\"#SIDO_NM0\"))\n",
    "    sel1.select_by_index(sido_index)\n",
    "\n",
    "    sele1 = Select(drv.find_element(by=By.CSS_SELECTOR, value=\"#SIGUNGU_NM0\"))\n",
    "    sele1.select_by_index(sigungu_index)\n",
    "    \n",
    "    but = drv.find_element(by=By.CSS_SELECTOR, value=\"#searRgSelect\")\n",
    "    but.click()\n",
    "    time.sleep(1)"
   ]
  },
  {
   "cell_type": "code",
   "execution_count": null,
   "id": "ec773e87-9d0f-40ce-9c20-c44959bd3e14",
   "metadata": {},
   "outputs": [],
   "source": [
    "sido_index = 15\n",
    "sigungu_indexes = list(range(1,25))\n",
    "\n",
    "for sigungu_index in sigungu_indexes:\n",
    "    sel1 = Select(drv.find_element(by=By.CSS_SELECTOR, value=\"#SIDO_NM0\"))\n",
    "    sel1.select_by_index(sido_index)\n",
    "\n",
    "    sele1 = Select(drv.find_element(by=By.CSS_SELECTOR, value=\"#SIGUNGU_NM0\"))\n",
    "    sele1.select_by_index(sigungu_index)\n",
    "    \n",
    "    but = drv.find_element(by=By.CSS_SELECTOR, value=\"#searRgSelect\")\n",
    "    but.click()\n",
    "    time.sleep(1)"
   ]
  },
  {
   "cell_type": "code",
   "execution_count": 65,
   "id": "640dc03a-193a-451c-8d5b-cc9cd147af3d",
   "metadata": {},
   "outputs": [],
   "source": [
    "sido_index = 14\n",
    "sigungu_indexes = list(range(1,23))\n",
    "\n",
    "for sigungu_index in sigungu_indexes:\n",
    "    sel1 = Select(drv.find_element(by=By.CSS_SELECTOR, value=\"#SIDO_NM0\"))\n",
    "    sel1.select_by_index(sido_index)\n",
    "\n",
    "    sele1 = Select(drv.find_element(by=By.CSS_SELECTOR, value=\"#SIGUNGU_NM0\"))\n",
    "    sele1.select_by_index(sigungu_index)\n",
    "    \n",
    "    but = drv.find_element(by=By.CSS_SELECTOR, value=\"#searRgSelect\")\n",
    "    but.click()\n",
    "    time.sleep(1)"
   ]
  },
  {
   "cell_type": "code",
   "execution_count": 15,
   "id": "d36730c0-2c93-46f7-834d-0163e6ca2482",
   "metadata": {},
   "outputs": [
    {
     "ename": "StaleElementReferenceException",
     "evalue": "Message: stale element reference: stale element not found\n  (Session info: chrome=129.0.6668.101); For documentation on this error, please visit: https://www.selenium.dev/documentation/webdriver/troubleshooting/errors#stale-element-reference-exception\nStacktrace:\n\tGetHandleVerifier [0x00007FF7EB74B095+29557]\n\t(No symbol) [0x00007FF7EB6BFA50]\n\t(No symbol) [0x00007FF7EB57B56A]\n\t(No symbol) [0x00007FF7EB58E05B]\n\t(No symbol) [0x00007FF7EB582D94]\n\t(No symbol) [0x00007FF7EB580C14]\n\t(No symbol) [0x00007FF7EB5844B7]\n\t(No symbol) [0x00007FF7EB584570]\n\t(No symbol) [0x00007FF7EB5CB3C7]\n\t(No symbol) [0x00007FF7EB5F718A]\n\t(No symbol) [0x00007FF7EB5C2E86]\n\t(No symbol) [0x00007FF7EB5F73A0]\n\t(No symbol) [0x00007FF7EB61851C]\n\t(No symbol) [0x00007FF7EB5F6F33]\n\t(No symbol) [0x00007FF7EB5C116F]\n\t(No symbol) [0x00007FF7EB5C22D1]\n\tGetHandleVerifier [0x00007FF7EBA7C96D+3378253]\n\tGetHandleVerifier [0x00007FF7EBAC8497+3688311]\n\tGetHandleVerifier [0x00007FF7EBABD1CB+3642539]\n\tGetHandleVerifier [0x00007FF7EB80A6B6+813462]\n\t(No symbol) [0x00007FF7EB6CAB5F]\n\t(No symbol) [0x00007FF7EB6C6B74]\n\t(No symbol) [0x00007FF7EB6C6D10]\n\t(No symbol) [0x00007FF7EB6B5C1F]\n\tBaseThreadInitThunk [0x00007FF9869B257D+29]\n\tRtlUserThreadStart [0x00007FF98812AF28+40]\n",
     "output_type": "error",
     "traceback": [
      "\u001b[1;31m---------------------------------------------------------------------------\u001b[0m",
      "\u001b[1;31mStaleElementReferenceException\u001b[0m            Traceback (most recent call last)",
      "Cell \u001b[1;32mIn[15], line 6\u001b[0m\n\u001b[0;32m      4\u001b[0m \u001b[38;5;28;01mfor\u001b[39;00m sido_index \u001b[38;5;129;01min\u001b[39;00m sido_indexes:\n\u001b[0;32m      5\u001b[0m     \u001b[38;5;28;01mfor\u001b[39;00m sigungu_index \u001b[38;5;129;01min\u001b[39;00m sigungu_indexes:\n\u001b[1;32m----> 6\u001b[0m         sel1 \u001b[38;5;241m=\u001b[39m \u001b[43mSelect\u001b[49m\u001b[43m(\u001b[49m\u001b[43mdrv\u001b[49m\u001b[38;5;241;43m.\u001b[39;49m\u001b[43mfind_element\u001b[49m\u001b[43m(\u001b[49m\u001b[43mby\u001b[49m\u001b[38;5;241;43m=\u001b[39;49m\u001b[43mBy\u001b[49m\u001b[38;5;241;43m.\u001b[39;49m\u001b[43mCSS_SELECTOR\u001b[49m\u001b[43m,\u001b[49m\u001b[43m \u001b[49m\u001b[43mvalue\u001b[49m\u001b[38;5;241;43m=\u001b[39;49m\u001b[38;5;124;43m\"\u001b[39;49m\u001b[38;5;124;43m#SIDO_NM0\u001b[39;49m\u001b[38;5;124;43m\"\u001b[39;49m\u001b[43m)\u001b[49m\u001b[43m)\u001b[49m\n\u001b[0;32m      7\u001b[0m         sel1\u001b[38;5;241m.\u001b[39mselect_by_index(sido_index)\n\u001b[0;32m      9\u001b[0m         sele1 \u001b[38;5;241m=\u001b[39m Select(drv\u001b[38;5;241m.\u001b[39mfind_element(by\u001b[38;5;241m=\u001b[39mBy\u001b[38;5;241m.\u001b[39mCSS_SELECTOR, value\u001b[38;5;241m=\u001b[39m\u001b[38;5;124m\"\u001b[39m\u001b[38;5;124m#SIGUNGU_NM0\u001b[39m\u001b[38;5;124m\"\u001b[39m))\n",
      "File \u001b[1;32m~\\miniconda3\\envs\\python\\Lib\\site-packages\\selenium\\webdriver\\support\\select.py:41\u001b[0m, in \u001b[0;36mSelect.__init__\u001b[1;34m(self, webelement)\u001b[0m\n\u001b[0;32m     39\u001b[0m     \u001b[38;5;28;01mraise\u001b[39;00m UnexpectedTagNameException(\u001b[38;5;124mf\u001b[39m\u001b[38;5;124m\"\u001b[39m\u001b[38;5;124mSelect only works on <select> elements, not on \u001b[39m\u001b[38;5;132;01m{\u001b[39;00mwebelement\u001b[38;5;241m.\u001b[39mtag_name\u001b[38;5;132;01m}\u001b[39;00m\u001b[38;5;124m\"\u001b[39m)\n\u001b[0;32m     40\u001b[0m \u001b[38;5;28mself\u001b[39m\u001b[38;5;241m.\u001b[39m_el \u001b[38;5;241m=\u001b[39m webelement\n\u001b[1;32m---> 41\u001b[0m multi \u001b[38;5;241m=\u001b[39m \u001b[38;5;28;43mself\u001b[39;49m\u001b[38;5;241;43m.\u001b[39;49m\u001b[43m_el\u001b[49m\u001b[38;5;241;43m.\u001b[39;49m\u001b[43mget_dom_attribute\u001b[49m\u001b[43m(\u001b[49m\u001b[38;5;124;43m\"\u001b[39;49m\u001b[38;5;124;43mmultiple\u001b[39;49m\u001b[38;5;124;43m\"\u001b[39;49m\u001b[43m)\u001b[49m\n\u001b[0;32m     42\u001b[0m \u001b[38;5;28mself\u001b[39m\u001b[38;5;241m.\u001b[39mis_multiple \u001b[38;5;241m=\u001b[39m multi \u001b[38;5;129;01mand\u001b[39;00m multi \u001b[38;5;241m!=\u001b[39m \u001b[38;5;124m\"\u001b[39m\u001b[38;5;124mfalse\u001b[39m\u001b[38;5;124m\"\u001b[39m\n",
      "File \u001b[1;32m~\\miniconda3\\envs\\python\\Lib\\site-packages\\selenium\\webdriver\\remote\\webelement.py:149\u001b[0m, in \u001b[0;36mWebElement.get_dom_attribute\u001b[1;34m(self, name)\u001b[0m\n\u001b[0;32m    136\u001b[0m \u001b[38;5;28;01mdef\u001b[39;00m \u001b[38;5;21mget_dom_attribute\u001b[39m(\u001b[38;5;28mself\u001b[39m, name) \u001b[38;5;241m-\u001b[39m\u001b[38;5;241m>\u001b[39m \u001b[38;5;28mstr\u001b[39m:\n\u001b[0;32m    137\u001b[0m \u001b[38;5;250m    \u001b[39m\u001b[38;5;124;03m\"\"\"Gets the given attribute of the element. Unlike\u001b[39;00m\n\u001b[0;32m    138\u001b[0m \u001b[38;5;124;03m    :func:`~selenium.webdriver.remote.BaseWebElement.get_attribute`, this\u001b[39;00m\n\u001b[0;32m    139\u001b[0m \u001b[38;5;124;03m    method only returns attributes declared in the element's HTML markup.\u001b[39;00m\n\u001b[1;32m   (...)\u001b[0m\n\u001b[0;32m    147\u001b[0m \u001b[38;5;124;03m            text_length = target_element.get_dom_attribute(\"class\")\u001b[39;00m\n\u001b[0;32m    148\u001b[0m \u001b[38;5;124;03m    \"\"\"\u001b[39;00m\n\u001b[1;32m--> 149\u001b[0m     \u001b[38;5;28;01mreturn\u001b[39;00m \u001b[38;5;28;43mself\u001b[39;49m\u001b[38;5;241;43m.\u001b[39;49m\u001b[43m_execute\u001b[49m\u001b[43m(\u001b[49m\u001b[43mCommand\u001b[49m\u001b[38;5;241;43m.\u001b[39;49m\u001b[43mGET_ELEMENT_ATTRIBUTE\u001b[49m\u001b[43m,\u001b[49m\u001b[43m \u001b[49m\u001b[43m{\u001b[49m\u001b[38;5;124;43m\"\u001b[39;49m\u001b[38;5;124;43mname\u001b[39;49m\u001b[38;5;124;43m\"\u001b[39;49m\u001b[43m:\u001b[49m\u001b[43m \u001b[49m\u001b[43mname\u001b[49m\u001b[43m}\u001b[49m\u001b[43m)\u001b[49m[\u001b[38;5;124m\"\u001b[39m\u001b[38;5;124mvalue\u001b[39m\u001b[38;5;124m\"\u001b[39m]\n",
      "File \u001b[1;32m~\\miniconda3\\envs\\python\\Lib\\site-packages\\selenium\\webdriver\\remote\\webelement.py:395\u001b[0m, in \u001b[0;36mWebElement._execute\u001b[1;34m(self, command, params)\u001b[0m\n\u001b[0;32m    393\u001b[0m     params \u001b[38;5;241m=\u001b[39m {}\n\u001b[0;32m    394\u001b[0m params[\u001b[38;5;124m\"\u001b[39m\u001b[38;5;124mid\u001b[39m\u001b[38;5;124m\"\u001b[39m] \u001b[38;5;241m=\u001b[39m \u001b[38;5;28mself\u001b[39m\u001b[38;5;241m.\u001b[39m_id\n\u001b[1;32m--> 395\u001b[0m \u001b[38;5;28;01mreturn\u001b[39;00m \u001b[38;5;28;43mself\u001b[39;49m\u001b[38;5;241;43m.\u001b[39;49m\u001b[43m_parent\u001b[49m\u001b[38;5;241;43m.\u001b[39;49m\u001b[43mexecute\u001b[49m\u001b[43m(\u001b[49m\u001b[43mcommand\u001b[49m\u001b[43m,\u001b[49m\u001b[43m \u001b[49m\u001b[43mparams\u001b[49m\u001b[43m)\u001b[49m\n",
      "File \u001b[1;32m~\\miniconda3\\envs\\python\\Lib\\site-packages\\selenium\\webdriver\\remote\\webdriver.py:354\u001b[0m, in \u001b[0;36mWebDriver.execute\u001b[1;34m(self, driver_command, params)\u001b[0m\n\u001b[0;32m    352\u001b[0m response \u001b[38;5;241m=\u001b[39m \u001b[38;5;28mself\u001b[39m\u001b[38;5;241m.\u001b[39mcommand_executor\u001b[38;5;241m.\u001b[39mexecute(driver_command, params)\n\u001b[0;32m    353\u001b[0m \u001b[38;5;28;01mif\u001b[39;00m response:\n\u001b[1;32m--> 354\u001b[0m     \u001b[38;5;28;43mself\u001b[39;49m\u001b[38;5;241;43m.\u001b[39;49m\u001b[43merror_handler\u001b[49m\u001b[38;5;241;43m.\u001b[39;49m\u001b[43mcheck_response\u001b[49m\u001b[43m(\u001b[49m\u001b[43mresponse\u001b[49m\u001b[43m)\u001b[49m\n\u001b[0;32m    355\u001b[0m     response[\u001b[38;5;124m\"\u001b[39m\u001b[38;5;124mvalue\u001b[39m\u001b[38;5;124m\"\u001b[39m] \u001b[38;5;241m=\u001b[39m \u001b[38;5;28mself\u001b[39m\u001b[38;5;241m.\u001b[39m_unwrap_value(response\u001b[38;5;241m.\u001b[39mget(\u001b[38;5;124m\"\u001b[39m\u001b[38;5;124mvalue\u001b[39m\u001b[38;5;124m\"\u001b[39m, \u001b[38;5;28;01mNone\u001b[39;00m))\n\u001b[0;32m    356\u001b[0m     \u001b[38;5;28;01mreturn\u001b[39;00m response\n",
      "File \u001b[1;32m~\\miniconda3\\envs\\python\\Lib\\site-packages\\selenium\\webdriver\\remote\\errorhandler.py:229\u001b[0m, in \u001b[0;36mErrorHandler.check_response\u001b[1;34m(self, response)\u001b[0m\n\u001b[0;32m    227\u001b[0m         alert_text \u001b[38;5;241m=\u001b[39m value[\u001b[38;5;124m\"\u001b[39m\u001b[38;5;124malert\u001b[39m\u001b[38;5;124m\"\u001b[39m]\u001b[38;5;241m.\u001b[39mget(\u001b[38;5;124m\"\u001b[39m\u001b[38;5;124mtext\u001b[39m\u001b[38;5;124m\"\u001b[39m)\n\u001b[0;32m    228\u001b[0m     \u001b[38;5;28;01mraise\u001b[39;00m exception_class(message, screen, stacktrace, alert_text)  \u001b[38;5;66;03m# type: ignore[call-arg]  # mypy is not smart enough here\u001b[39;00m\n\u001b[1;32m--> 229\u001b[0m \u001b[38;5;28;01mraise\u001b[39;00m exception_class(message, screen, stacktrace)\n",
      "\u001b[1;31mStaleElementReferenceException\u001b[0m: Message: stale element reference: stale element not found\n  (Session info: chrome=129.0.6668.101); For documentation on this error, please visit: https://www.selenium.dev/documentation/webdriver/troubleshooting/errors#stale-element-reference-exception\nStacktrace:\n\tGetHandleVerifier [0x00007FF7EB74B095+29557]\n\t(No symbol) [0x00007FF7EB6BFA50]\n\t(No symbol) [0x00007FF7EB57B56A]\n\t(No symbol) [0x00007FF7EB58E05B]\n\t(No symbol) [0x00007FF7EB582D94]\n\t(No symbol) [0x00007FF7EB580C14]\n\t(No symbol) [0x00007FF7EB5844B7]\n\t(No symbol) [0x00007FF7EB584570]\n\t(No symbol) [0x00007FF7EB5CB3C7]\n\t(No symbol) [0x00007FF7EB5F718A]\n\t(No symbol) [0x00007FF7EB5C2E86]\n\t(No symbol) [0x00007FF7EB5F73A0]\n\t(No symbol) [0x00007FF7EB61851C]\n\t(No symbol) [0x00007FF7EB5F6F33]\n\t(No symbol) [0x00007FF7EB5C116F]\n\t(No symbol) [0x00007FF7EB5C22D1]\n\tGetHandleVerifier [0x00007FF7EBA7C96D+3378253]\n\tGetHandleVerifier [0x00007FF7EBAC8497+3688311]\n\tGetHandleVerifier [0x00007FF7EBABD1CB+3642539]\n\tGetHandleVerifier [0x00007FF7EB80A6B6+813462]\n\t(No symbol) [0x00007FF7EB6CAB5F]\n\t(No symbol) [0x00007FF7EB6C6B74]\n\t(No symbol) [0x00007FF7EB6C6D10]\n\t(No symbol) [0x00007FF7EB6B5C1F]\n\tBaseThreadInitThunk [0x00007FF9869B257D+29]\n\tRtlUserThreadStart [0x00007FF98812AF28+40]\n"
     ]
    }
   ],
   "source": [
    "#지역도 인덱스하고싶은데 하위인덱스 갯수가 다달라 오류가 뜹니다. 확인부탁드려요\n",
    "# sido_indexes = list(range(1,18))\n",
    "# sigungu_indexes = list(range(1,25))\n",
    "\n",
    "# for sido_index in sido_indexes:\n",
    "#     for sigungu_index in sigungu_indexes:\n",
    "#         sel1 = Select(drv.find_element(by=By.CSS_SELECTOR, value=\"#SIDO_NM0\"))\n",
    "#         sel1.select_by_index(sido_index)\n",
    "\n",
    "#         sele1 = Select(drv.find_element(by=By.CSS_SELECTOR, value=\"#SIGUNGU_NM0\"))\n",
    "#         sele1.select_by_index(sigungu_index)\n",
    "        \n",
    "#         but = drv.find_element(by=By.CSS_SELECTOR, value=\"#searRgSelect\")\n",
    "#         but.click()"
   ]
  },
  {
   "cell_type": "code",
   "execution_count": null,
   "id": "8b5c1aa7-0cdf-4030-8f83-91a3836f7c6e",
   "metadata": {},
   "outputs": [],
   "source": [
    "# "
   ]
  }
 ],
 "metadata": {
  "kernelspec": {
   "display_name": "Python 3 (ipykernel)",
   "language": "python",
   "name": "python3"
  },
  "language_info": {
   "codemirror_mode": {
    "name": "ipython",
    "version": 3
   },
   "file_extension": ".py",
   "mimetype": "text/x-python",
   "name": "python",
   "nbconvert_exporter": "python",
   "pygments_lexer": "ipython3",
   "version": "3.12.5"
  }
 },
 "nbformat": 4,
 "nbformat_minor": 5
}
