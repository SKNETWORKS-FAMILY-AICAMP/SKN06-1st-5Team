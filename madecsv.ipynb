{
 "cells": [
  {
   "cell_type": "code",
   "execution_count": 2,
   "metadata": {},
   "outputs": [],
   "source": [
    "import configparser as parser\n",
    "import pymysql\n",
    "import pandas as pd\n",
    "import numpy as np\n",
    "\n",
    "\n",
    "props = parser.ConfigParser()\n",
    "props.read(\"./../config.ini\")\n",
    "conf = props"
   ]
  },
  {
   "cell_type": "code",
   "execution_count": 3,
   "metadata": {},
   "outputs": [],
   "source": [
    "# 테이블 생성\n",
    "create_table_sql = \"\"\"\n",
    "CREATE TABLE IF NOT EXISTS oil_test (\n",
    "    시도 VARCHAR(50),\n",
    "    시군구 VARCHAR(50),\n",
    "    이름 VARCHAR(100),\n",
    "    셀프 VARCHAR(10),\n",
    "    주소 VARCHAR(255),\n",
    "    번호 VARCHAR(20),\n",
    "    고급휘발유 INT,\n",
    "    보통휘발유 INT,\n",
    "    경유 INT,\n",
    "    실내등유 INT,\n",
    "    PRIMARY KEY (시군구, 이름, 주소, 번호)\n",
    ");\n",
    "\"\"\"\n",
    "\n",
    "with pymysql.connect(host=conf['MYSQL']['host'], port=3306, user=conf['MYSQL']['user'], password=conf['MYSQL']['password'], db=conf['MYSQL']['db']) as conn:\n",
    "    with conn.cursor() as cur:\n",
    "        cur.execute(create_table_sql)\n",
    "        conn.commit()"
   ]
  },
  {
   "cell_type": "code",
   "execution_count": 6,
   "metadata": {},
   "outputs": [],
   "source": [
    "# csv > mysql\n",
    "df = pd.read_csv(\"./../oil_data.csv\", encoding='cp949')\n",
    "\n",
    "df['고급휘발유'] = df['고급휘발유'].replace(np.nan, None)\n",
    "df['보통휘발유'] = df['보통휘발유'].replace(np.nan, None)\n",
    "df['경유'] = df['경유'].replace(np.nan, None)\n",
    "df['실내등유'] = df['실내등유'].replace(np.nan, None)\n",
    "\n",
    "with pymysql.connect(host=conf['MYSQL']['host'], port=3306, user=conf['MYSQL']['user'], password=conf['MYSQL']['password'], db=conf['MYSQL']['db']) as conn:\n",
    "    with conn.cursor() as cur:\n",
    "        insert_sql = \"\"\"\n",
    "        INSERT INTO oil_test (시도, 시군구, 이름, 셀프, 주소, 번호, 고급휘발유, 보통휘발유, 경유, 실내등유)\n",
    "        VALUES (%s, %s, %s, %s, %s, %s, %s, %s, %s, %s)\n",
    "        \"\"\"\n",
    "\n",
    "        # Insert each row into the MySQL table\n",
    "        for index, row in df.iterrows():\n",
    "            cur.execute(insert_sql, tuple(row))\n",
    "\n",
    "        # Commit the transaction\n",
    "        conn.commit()"
   ]
  },
  {
   "cell_type": "code",
   "execution_count": 4,
   "metadata": {},
   "outputs": [],
   "source": [
    "# mysql > csv\n",
    "with pymysql.connect(host=conf['MYSQL']['host'], port=3306, user=conf['MYSQL']['user'], password=conf['MYSQL']['password'], db=conf['MYSQL']['db']) as conn:\n",
    "    with conn.cursor() as cur:\n",
    "        sql = \"SELECT * FROM oil_data\"\n",
    "        cur.execute(sql)\n",
    "        rows = cur.fetchall()\n",
    "        columns = [col[0] for col in cur.description]\n",
    "    \n",
    "df = pd.DataFrame(rows, columns=columns)\n",
    "df.to_csv(\"./../oil_data.csv\", index=False, encoding='cp949')"
   ]
  }
 ],
 "metadata": {
  "kernelspec": {
   "display_name": "Python 3",
   "language": "python",
   "name": "python3"
  },
  "language_info": {
   "codemirror_mode": {
    "name": "ipython",
    "version": 3
   },
   "file_extension": ".py",
   "mimetype": "text/x-python",
   "name": "python",
   "nbconvert_exporter": "python",
   "pygments_lexer": "ipython3",
   "version": "3.12.3"
  }
 },
 "nbformat": 4,
 "nbformat_minor": 2
}
